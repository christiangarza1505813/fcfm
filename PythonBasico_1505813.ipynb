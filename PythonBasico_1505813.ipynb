{
 "cells": [
  {
   "cell_type": "markdown",
   "metadata": {},
   "source": [
    "Programa 1 Hola mundo"
   ]
  },
  {
   "cell_type": "code",
   "execution_count": 140,
   "metadata": {},
   "outputs": [
    {
     "name": "stdout",
     "output_type": "stream",
     "text": [
      "Hola mundo!!\n"
     ]
    }
   ],
   "source": [
    "print (\"Hola mundo!!\")"
   ]
  },
  {
   "cell_type": "markdown",
   "metadata": {},
   "source": [
    "### Ejercicio 1\n",
    "\n",
    "Realizar una variable con tu matrícula y realiza una secuencia de imprimir con tu nombre y matricula concatenados\n",
    "    \n",
    "    Programa 2 Matemáticas sencillas"
   ]
  },
  {
   "cell_type": "code",
   "execution_count": 141,
   "metadata": {},
   "outputs": [
    {
     "name": "stdout",
     "output_type": "stream",
     "text": [
      "500 3000 1500000 76.15773105863909 1505813.0\n",
      "Mi matricula es: 1505813.0\n"
     ]
    }
   ],
   "source": [
    "a=500\n",
    "b=3000\n",
    "c=a*b\n",
    "d=10*58**(1/2)\n",
    "e=a*b+(d**2)+13\n",
    "print (a,b,c,d,e)\n",
    "\n",
    "print (\"Mi matricula es:\", e)"
   ]
  },
  {
   "cell_type": "markdown",
   "metadata": {},
   "source": [
    "Input del usuario:"
   ]
  },
  {
   "cell_type": "code",
   "execution_count": 17,
   "metadata": {},
   "outputs": [
    {
     "name": "stdout",
     "output_type": "stream",
     "text": [
      "Introduce tu nombre: Christian\n",
      "Introduce tu apellido: Garza\n",
      "Mi nombre es:  Christian Garza y mi matricula es:  1505813.0\n"
     ]
    }
   ],
   "source": [
    "a1= input(\"Introduce tu nombre: \")\n",
    "b1= input(\"Introduce tu apellido: \")\n",
    "\n",
    "print(\"Mi nombre es: \", a1,b1, \"y mi matricula es: \",e)"
   ]
  },
  {
   "cell_type": "markdown",
   "metadata": {},
   "source": [
    "### Ejercicio 2\n",
    "\n",
    "Pidiendo el input del usuario pide dos números y crea una pequeña calculadora con los operadores básicos de suma, resta, multiplicación, división, y exponente."
   ]
  },
  {
   "cell_type": "code",
   "execution_count": 18,
   "metadata": {
    "scrolled": true
   },
   "outputs": [
    {
     "name": "stdout",
     "output_type": "stream",
     "text": [
      "Introduce el primer número:1\n",
      "Introduce el segundo número:3\n",
      "La suma de 1 más 3 es: 4\n",
      "La resta de 1 menos 3 es: -2\n",
      "La resta de 3 menos 1 es: 2\n",
      "La multiplicación de 1 por 3 es: 3\n",
      "La división de 1 entre 3 es: 0.3333333333333333\n",
      "La división de 3 entre 1 es: 3.0\n",
      "1 elevado a la 3 es: 1\n",
      "3 elevado a la 1 es: 3\n"
     ]
    }
   ],
   "source": [
    "n1= int(input(\"Introduce el primer número:\"))\n",
    "n2= int(input(\"Introduce el segundo número:\"))\n",
    "\n",
    "suma= n1+n2\n",
    "resta1= n1-n2\n",
    "resta2= n2-n1\n",
    "mult= n1*n2\n",
    "div1= n1/n2\n",
    "div2= n2/n1\n",
    "exp1= n1**n2\n",
    "exp2= n2**n1\n",
    "\n",
    "print(\"La suma de\", n1, \"más\", n2, \"es:\", suma)\n",
    "print(\"La resta de\", n1, \"menos\", n2,\"es:\", resta1)\n",
    "print(\"La resta de\", n2, \"menos\", n1,\"es:\", resta2)\n",
    "print(\"La multiplicación de\", n1, \"por\", n2, \"es:\", mult)\n",
    "print(\"La división de\", n1, \"entre\", n2, \"es:\", div1)\n",
    "print(\"La división de\", n2, \"entre\", n1, \"es:\", div2)\n",
    "print(n1, \"elevado a la\", n2, \"es:\", exp1)\n",
    "print(n2, \"elevado a la\", n1, \"es:\", exp2)"
   ]
  },
  {
   "cell_type": "markdown",
   "metadata": {},
   "source": [
    "### Ejercicio 3:\n",
    "\n",
    "Con loop while o for, realiza una lista de 10 numeros multiplos de 3, y después realiza una función de loop que sume todos los números dentro del arreglo."
   ]
  },
  {
   "cell_type": "code",
   "execution_count": 24,
   "metadata": {},
   "outputs": [
    {
     "name": "stdout",
     "output_type": "stream",
     "text": [
      "La lista de 10 números multiplos de 3: [3, 6, 9, 12, 15, 18, 21, 24, 27, 30]\n",
      "La suma es de nuestro vector de números multiplos de 3 es: 165\n"
     ]
    }
   ],
   "source": [
    "i=1\n",
    "lista=[]\n",
    "\n",
    "for i in range(1,31):\n",
    "    if i%3==0:\n",
    "        lista.append(i)\n",
    "i=i+1\n",
    "\n",
    "print(\"La lista de 10 números multiplos de 3:\",lista)\n",
    "print(\"La suma es de nuestro vector de números multiplos de 3 es:\",sum(lista))"
   ]
  },
  {
   "cell_type": "markdown",
   "metadata": {},
   "source": [
    "### Ejercicio 4\n",
    "\n",
    "Con una función de if else, revisar si un número es par o es impar.\n",
    "\n",
    "Con una función de if else, revisar si un número es primo o no."
   ]
  },
  {
   "cell_type": "code",
   "execution_count": 25,
   "metadata": {},
   "outputs": [
    {
     "name": "stdout",
     "output_type": "stream",
     "text": [
      "Selecciona un número: 20\n",
      "El número 20 es par\n"
     ]
    }
   ],
   "source": [
    "num=int(input(\"Selecciona un número: \"))\n",
    "\n",
    "if num%2==0:\n",
    "    print(\"El número\", num, \"es par\")\n",
    "else:\n",
    "    print(\"El número\", num, \"es impar\")"
   ]
  },
  {
   "cell_type": "code",
   "execution_count": 28,
   "metadata": {},
   "outputs": [
    {
     "name": "stdout",
     "output_type": "stream",
     "text": [
      "Selecciona un número: 13\n",
      "El número 13 es primo\n"
     ]
    }
   ],
   "source": [
    "num2=int(input(\"Selecciona un número: \"))\n",
    "i=0\n",
    "aux=0\n",
    "\n",
    "for i in range (2,num2-1):\n",
    "    if num2%i==0:\n",
    "        aux= aux+1\n",
    "i=i+1\n",
    "\n",
    "if aux>0:\n",
    "    print(\"El número\", num2,\"no es primo\")\n",
    "else:\n",
    "    print (\"El número\", num2, \"es primo\")"
   ]
  },
  {
   "cell_type": "markdown",
   "metadata": {},
   "source": [
    "### Ejercicio 5\n",
    "\n",
    "Utilizando diferentes clases en python, crea una calculadora con los operadores básicos de suma, resta, multiplicación, división, y exponente.\n"
   ]
  },
  {
   "cell_type": "code",
   "execution_count": 29,
   "metadata": {},
   "outputs": [
    {
     "name": "stdout",
     "output_type": "stream",
     "text": [
      "Introduce el primer número:7\n",
      "Introduce el segundo número:2\n",
      "La suma de 7 más 2 es: 9\n",
      "La resta de 7 menos 2 es: 5\n",
      "La resta de 2 menos 7 es: -5\n",
      "La multiplicación de 7 por 2 es: 14\n",
      "La división de 7 entre 2 es: 3.5\n",
      "La división de 2 entre 7 es: 0.2857142857142857\n",
      "7 elevado a la 2 es: 49.0\n",
      "2 elevado a la 7 es: 128.0\n"
     ]
    }
   ],
   "source": [
    "import math as m\n",
    "\n",
    "n1= int(input(\"Introduce el primer número:\"))\n",
    "n2= int(input(\"Introduce el segundo número:\"))\n",
    "\n",
    "suma= n1+n2\n",
    "resta1= n1-n2\n",
    "resta2= n2-n1\n",
    "mult= n1*n2\n",
    "div1= n1/n2\n",
    "div2= n2/n1\n",
    "exp1= m.pow(n1,n2)\n",
    "exp2= m.pow(n2,n1)\n",
    "\n",
    "print(\"La suma de\", n1, \"más\", n2, \"es:\", suma)\n",
    "print(\"La resta de\", n1, \"menos\", n2,\"es:\", resta1)\n",
    "print(\"La resta de\", n2, \"menos\", n1,\"es:\", resta2)\n",
    "print(\"La multiplicación de\", n1, \"por\", n2, \"es:\", mult)\n",
    "print(\"La división de\", n1, \"entre\", n2, \"es:\", div1)\n",
    "print(\"La división de\", n2, \"entre\", n1, \"es:\", div2)\n",
    "print(n1, \"elevado a la\", n2, \"es:\", exp1)\n",
    "print(n2, \"elevado a la\", n1, \"es:\", exp2)"
   ]
  },
  {
   "cell_type": "markdown",
   "metadata": {},
   "source": [
    "## Ejercicios con estructuras básicas de python.\n",
    "### Tuplas\n",
    "\n",
    "Crear una variable flotante, integer, boleana y compleja e imprimir el tipo de variable que es."
   ]
  },
  {
   "cell_type": "code",
   "execution_count": 54,
   "metadata": {},
   "outputs": [
    {
     "name": "stdout",
     "output_type": "stream",
     "text": [
      "0.01     su tipo es <class 'float'>\n",
      "5     su tipo es <class 'int'>\n",
      "True     su tipo es <class 'bool'>\n",
      "(2+3j)     su tipo es <class 'complex'>\n"
     ]
    }
   ],
   "source": [
    "tupla=(0.01,5,True,2+3j)\n",
    "for i in range (len(tupla)):\n",
    "    print(tupla[i], \"    su tipo es\", type(tupla[i]))"
   ]
  },
  {
   "cell_type": "markdown",
   "metadata": {},
   "source": [
    "Crear una tupla con valores enteros imprimir el primer y ultimo valor."
   ]
  },
  {
   "cell_type": "code",
   "execution_count": 41,
   "metadata": {},
   "outputs": [
    {
     "name": "stdout",
     "output_type": "stream",
     "text": [
      "Su primer valor es: 5\n",
      "Su ultimo valor es: 7\n"
     ]
    }
   ],
   "source": [
    "tupla=(5,6,1,2,3,9,7)\n",
    "print (\"Su primer valor es:\", tupla[0])\n",
    "print (\"Su ultimo valor es:\", tupla[len(tupla)-1])"
   ]
  },
  {
   "cell_type": "markdown",
   "metadata": {},
   "source": [
    "Añadir 3 valores de string a la tupla."
   ]
  },
  {
   "cell_type": "code",
   "execution_count": 42,
   "metadata": {},
   "outputs": [
    {
     "name": "stdout",
     "output_type": "stream",
     "text": [
      "(5, 6, 1, 2, 3, 9, 7, 'Christian', 'Servando', 'Garza')\n"
     ]
    }
   ],
   "source": [
    "tupla=(5,6,1,2,3,9,7)\n",
    "tuplalista=list(tupla)\n",
    "tuplalista.append(\"Christian\")\n",
    "tuplalista.append(\"Servando\")\n",
    "tuplalista.append(\"Garza\")\n",
    "\n",
    "tuplafin= tuple(tuplalista)\n",
    "print(tuplafin)"
   ]
  },
  {
   "cell_type": "markdown",
   "metadata": {},
   "source": [
    "Verificar si una variable existe dentro de la tupla."
   ]
  },
  {
   "cell_type": "code",
   "execution_count": 139,
   "metadata": {},
   "outputs": [
    {
     "name": "stdout",
     "output_type": "stream",
     "text": [
      "Ingrese el valor a buscar: 8\n",
      "El valor 8 no está dentro de la tupla\n"
     ]
    }
   ],
   "source": [
    "aux=0\n",
    "tupla=(5,6,1,2,3,9,7)\n",
    "valor= int(input(\"Ingrese el valor a buscar: \"))\n",
    "\n",
    "for i in range (len(tupla)):\n",
    "    if valor==tupla[i]:\n",
    "        aux=aux+1\n",
    "        \n",
    "if aux==0:\n",
    "    print(\"El valor\", valor, \"no está dentro de la tupla\")\n",
    "else:\n",
    "    print(\"El valor\", valor, \"está dentro de la tupla\")"
   ]
  },
  {
   "cell_type": "markdown",
   "metadata": {},
   "source": [
    "### Listas\n",
    "Crear una lista con 40 elementos aleatorios enteros."
   ]
  },
  {
   "cell_type": "code",
   "execution_count": 137,
   "metadata": {},
   "outputs": [
    {
     "name": "stdout",
     "output_type": "stream",
     "text": [
      "[18, 61, 1, 38, 98, 57, 12, 40, 74, 66, 58, 52, 91, 59, 59, 46, 79, 28, 32, 39, 63, 66, 33, 33, 60, 62, 22, 54, 64, 73, 31, 18, 20, 39, 35, 7, 21, 33, 45, 57]\n"
     ]
    }
   ],
   "source": [
    "import random as r\n",
    "i=0\n",
    "lista=[]\n",
    "\n",
    "for i in range(40):\n",
    "    val=r.randint(1,100)\n",
    "    lista.append(val)\n",
    "print(lista)"
   ]
  },
  {
   "cell_type": "markdown",
   "metadata": {},
   "source": [
    "Con una funcion (def) crear dos listas nuevas a partir de la lista creada por numeros aleatorios, en la cual en una esten los elementos pares, y en la otra los elementos impares."
   ]
  },
  {
   "cell_type": "markdown",
   "metadata": {},
   "source": [
    "Crear dos variables con la longitud de ambas listas nuevas e imprimir las variables.\n",
    "\n",
    "Ordenar los elementos de la lista par de mayor a menor, y los de la lista impar de menor a mayor."
   ]
  },
  {
   "cell_type": "code",
   "execution_count": 136,
   "metadata": {
    "scrolled": true
   },
   "outputs": [
    {
     "name": "stdout",
     "output_type": "stream",
     "text": [
      "La lista completa es:  [15, 58, 30, 39, 58, 10, 64, 67, 79, 49, 21, 79, 39, 7, 53, 6, 97, 53, 12, 20, 36, 1, 89, 6, 29, 96, 88, 21, 95, 64, 93, 10, 38, 32, 23, 30, 1, 88, 51, 5]\n",
      "La longitud de la lista completa es:  40\n",
      "La lista de los pares es:  [58, 30, 58, 10, 64, 6, 12, 20, 36, 6, 96, 88, 64, 10, 38, 32, 30, 88]\n",
      "La lista de los impares es:  [15, 39, 67, 79, 49, 21, 79, 39, 7, 53, 97, 53, 1, 89, 29, 21, 95, 93, 23, 1, 51, 5]\n",
      "La longitud de la lista de los pares es:  18\n",
      "La longitud de la lista de los impares es:  22\n",
      "La lista de los numeros pares ordenados de mayor a menor es:  [96, 88, 88, 64, 64, 58, 58, 38, 36, 32, 30, 30, 20, 12, 10, 10, 6, 6]\n",
      "La lista de los numeros impares ordenados de menor a mayor es:  [1, 1, 5, 7, 15, 21, 21, 23, 29, 39, 39, 49, 51, 53, 53, 67, 79, 79, 89, 93, 95, 97]\n"
     ]
    }
   ],
   "source": [
    "import random as r\n",
    "i=0\n",
    "lista=[]\n",
    "\n",
    "for i in range(40):\n",
    "    val=r.randint(1,100)\n",
    "    lista.append(val)\n",
    "print(\"La lista completa es: \",lista)\n",
    "print(\"La longitud de la lista completa es: \",len(lista))\n",
    "def separar(l):\n",
    "    j=0\n",
    "    listapares=[]\n",
    "    listaimpares=[]\n",
    "    \n",
    "    #aqui verificamos si cada numero de nuestro vector es par o impar usando mod\n",
    "    for j in range(40):\n",
    "        if lista[j] % 2 == 0:\n",
    "            listapares.append(lista[j])\n",
    "        else:\n",
    "            listaimpares.append(lista[j])\n",
    "            \n",
    "    #usamos la funcion de len y de sorted para verificar la longitud de nuestros vectores y acomodar nuestros numeros respectivamente\n",
    "    print(\"La lista de los pares es: \", listapares)\n",
    "    print(\"La lista de los impares es: \", listaimpares)\n",
    "    print(\"La longitud de la lista de los pares es: \",len(listapares))\n",
    "    print(\"La longitud de la lista de los impares es: \",len(listaimpares))\n",
    "    print(\"La lista de los numeros pares ordenados de mayor a menor es: \", sorted(listapares,reverse=True))\n",
    "    print(\"La lista de los numeros impares ordenados de menor a mayor es: \", sorted(listaimpares))\n",
    "    \n",
    "separar(lista)"
   ]
  },
  {
   "cell_type": "markdown",
   "metadata": {},
   "source": [
    "Utilizar al menos cuatro de las funciones de listas en python en la lista original de 40 elementos."
   ]
  },
  {
   "cell_type": "code",
   "execution_count": 138,
   "metadata": {},
   "outputs": [
    {
     "name": "stdout",
     "output_type": "stream",
     "text": [
      "[21, 67, 98, 39, 77, 21, 64, 39, 81, 18, 1, 67, 37, 22, 45, 85, 69, 38, 15, 61]\n",
      "La suma de la lista es: 965\n",
      "La longitud de la lista es: 20\n",
      "El número mayor de la lista es: 98\n",
      "El número menor de la lista es: 1\n"
     ]
    }
   ],
   "source": [
    "import random as r\n",
    "i=0\n",
    "lista=[]\n",
    "\n",
    "for i in range(20):\n",
    "    val=r.randint(1,100)\n",
    "    lista.append(val)\n",
    "print(lista)\n",
    "\n",
    "print(\"La suma de la lista es:\", sum(lista))\n",
    "print(\"La longitud de la lista es:\", len(lista))\n",
    "print(\"El número mayor de la lista es:\", max(lista))\n",
    "print(\"El número menor de la lista es:\", min(lista))"
   ]
  },
  {
   "cell_type": "markdown",
   "metadata": {},
   "source": [
    "Diccionarios\n",
    "Crear un diccionario de 6 personas que conozcas con su primer nombre y su edad. \n",
    "\n",
    "Crear una lista con los valores de la edad y reacomodar la lista de menor a mayor valor.\n",
    "\n",
    "Usando el diccionario y un loop, imprimir solo los nombres.\n",
    "\n",
    "Añadir dos personas nuevas a tu diccionario, incluyendo edad."
   ]
  },
  {
   "cell_type": "code",
   "execution_count": 197,
   "metadata": {},
   "outputs": [
    {
     "name": "stdout",
     "output_type": "stream",
     "text": [
      "{1: ['Christian', 27], 2: ['Cristiano', 14], 3: ['Christopher', 32], 4: ['Chris', 48], 5: ['Christina', 25], 6: ['Chrisbellys', 22]}\n",
      "Las edades ordenadas son: [14, 22, 25, 27, 32, 48]\n",
      "1 : Christian\n",
      "2 : Cristiano\n",
      "3 : Christopher\n",
      "4 : Chris\n",
      "5 : Christina\n",
      "6 : Chrisbellys\n",
      "{1: ['Christian', 27], 2: ['Cristiano', 14], 3: ['Christopher', 32], 4: ['Chris', 48], 5: ['Christina', 25], 6: ['Chrisbellys', 22], 'Jose': 5, 'Arturo': 75}\n"
     ]
    }
   ],
   "source": [
    "fam= {1:[\"Christian\",27], 2:[\"Cristiano\",14], 3:[\"Christopher\",32], 4: [\"Chris\",48], 5: [\"Christina\",25], 6: [\"Chrisbellys\",22]}\n",
    "print(diccionario)\n",
    "\n",
    "\n",
    "#aqui creamos un vector para edades y usamos la funcion sorted para acomodarlas de menor a mayor\n",
    "edades = []\n",
    "for i in range(1,7):\n",
    "    edades.append(fam[i][1])\n",
    "print(\"Las edades ordenadas son:\", sorted(edades))\n",
    "\n",
    "for i in range(1,7):\n",
    "    print(i,\":\",fam[i][0])\n",
    "    \n",
    "fam[\"Jose\"]=5\n",
    "fam[\"Arturo\"]=75\n",
    "print(fam)"
   ]
  },
  {
   "cell_type": "markdown",
   "metadata": {},
   "source": [
    "### Sets\n",
    "\n",
    "Crea un set con 100 numeros aleatorios enteros del 1 al 25.\n",
    "\n",
    "Comprueba la longitud de tu set.\n",
    "\n",
    "Crea una lista de 5 numeros aleatorios del 1 al 10 y comprueba si cada valor aparece en el set inicial."
   ]
  },
  {
   "cell_type": "code",
   "execution_count": 446,
   "metadata": {
    "scrolled": true
   },
   "outputs": [
    {
     "name": "stdout",
     "output_type": "stream",
     "text": [
      "La lista completa es:  [10, 1, 5, 6, 21, 20, 4, 9, 15, 16, 7, 7, 5, 25, 19, 17, 7, 21, 9, 2, 10, 3, 20, 19, 6, 11, 16, 21, 18, 18, 2, 16, 18, 11, 2, 13, 8, 10, 7, 11, 1, 14, 14, 11, 18, 6, 20, 19, 16, 14, 2, 2, 25, 25, 3, 5, 9, 16, 19, 22, 25, 24, 1, 21, 12, 4, 21, 10, 18, 1, 15, 3, 19, 20, 4, 24, 11, 17, 6, 6, 9, 25, 12, 10, 2, 10, 22, 25, 19, 18, 10, 16, 15, 20, 25, 9, 20, 21, 20, 12]\n",
      "la longitud del set 1 es:  100\n",
      "Los numeros de la lista 2 son:  [4, 2, 3, 3, 8]\n",
      "Estos son los valores que aparecen en el set inicial:  {2, 3, 4}\n"
     ]
    }
   ],
   "source": [
    "\n",
    "import random as r\n",
    "\n",
    "#aqui generamos 100 numeros aleatorios del 1 a 25\n",
    "i=0\n",
    "lista=[]\n",
    "\n",
    "for i in range(100):\n",
    "    val=r.randint(1,25)\n",
    "    lista.append(val)\n",
    "print(\"La lista completa es: \",lista)\n",
    "\n",
    "\n",
    "print(\"la longitud del set 1 es: \",len(lista))\n",
    "\n",
    "\n",
    "\n",
    "\n",
    "\n",
    "#aqui generamos 5 numeros aleatorios del 1 a 10\n",
    "set2=[]\n",
    "\n",
    "for i in range(5):\n",
    "    val2=r.randint(1,10)\n",
    "    set2.append(val2)\n",
    "print(\"Los numeros de la lista 2 son: \",set2)\n",
    "\n",
    "\n",
    "\n",
    "\n",
    "#aqui comparamos si los datos del set 2 aparencen en el set 1 y al final los imprimimos\n",
    "set3=[]\n",
    "i=0\n",
    "j=0\n",
    "for j in range(99):\n",
    "    for i in range(4):\n",
    "        if set2[i]==lista[j]:\n",
    "            val3 = set2[i]\n",
    "            set3.append(val3)\n",
    "           \n",
    "print(\"Estos son los valores que aparecen en el set inicial: \", set(set3))\n"
   ]
  },
  {
   "cell_type": "code",
   "execution_count": null,
   "metadata": {},
   "outputs": [],
   "source": []
  }
 ],
 "metadata": {
  "kernelspec": {
   "display_name": "Python 3",
   "language": "python",
   "name": "python3"
  },
  "language_info": {
   "codemirror_mode": {
    "name": "ipython",
    "version": 3
   },
   "file_extension": ".py",
   "mimetype": "text/x-python",
   "name": "python",
   "nbconvert_exporter": "python",
   "pygments_lexer": "ipython3",
   "version": "3.8.3"
  }
 },
 "nbformat": 4,
 "nbformat_minor": 4
}
